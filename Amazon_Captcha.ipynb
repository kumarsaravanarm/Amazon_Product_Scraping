{
  "nbformat": 4,
  "nbformat_minor": 0,
  "metadata": {
    "colab": {
      "name": "Amazon_Captcha.ipynb",
      "provenance": [],
      "authorship_tag": "ABX9TyMLcdu8AyDu6GTzWnJKFrWf",
      "include_colab_link": true
    },
    "kernelspec": {
      "name": "python3",
      "display_name": "Python 3"
    },
    "language_info": {
      "name": "python"
    }
  },
  "cells": [
    {
      "cell_type": "markdown",
      "metadata": {
        "id": "view-in-github",
        "colab_type": "text"
      },
      "source": [
        "<a href=\"https://colab.research.google.com/github/kumarsaravanarm/Amazon_Product_Scraping/blob/main/Amazon_Captcha.ipynb\" target=\"_parent\"><img src=\"https://colab.research.google.com/assets/colab-badge.svg\" alt=\"Open In Colab\"/></a>"
      ]
    },
    {
      "cell_type": "code",
      "execution_count": null,
      "metadata": {
        "id": "duZrN80spNO4"
      },
      "outputs": [],
      "source": [
        "!pip install selenium"
      ]
    },
    {
      "cell_type": "code",
      "source": [
        "!pip install Pillow"
      ],
      "metadata": {
        "id": "0uR2obu0pSy9"
      },
      "execution_count": null,
      "outputs": []
    },
    {
      "cell_type": "code",
      "source": [
        "!pip install easyocr"
      ],
      "metadata": {
        "id": "uUFU8kI6qDuS"
      },
      "execution_count": null,
      "outputs": []
    },
    {
      "cell_type": "code",
      "source": [
        "!pip install requests"
      ],
      "metadata": {
        "id": "Eb1sd-rUqLYj"
      },
      "execution_count": null,
      "outputs": []
    },
    {
      "cell_type": "code",
      "source": [
        "!apt install chromium-chromedriver xvfb > /dev/null"
      ],
      "metadata": {
        "id": "RIdqo9eftfks"
      },
      "execution_count": null,
      "outputs": []
    },
    {
      "cell_type": "code",
      "source": [
        "from selenium import webdriver\n",
        "from selenium.webdriver.common.by import By\n",
        "from selenium.webdriver.common.keys import Keys\n",
        "from selenium.webdriver.support.ui import WebDriverWait\n",
        "from selenium.common.exceptions import NoSuchElementException"
      ],
      "metadata": {
        "id": "_OOfuK3NqUuk"
      },
      "execution_count": null,
      "outputs": []
    },
    {
      "cell_type": "code",
      "source": [
        "import io\n",
        "import requests\n",
        "from PIL import Image\n",
        "import easyocr"
      ],
      "metadata": {
        "id": "V-MTNbXiuYDE"
      },
      "execution_count": null,
      "outputs": []
    },
    {
      "cell_type": "code",
      "source": [
        "opt = webdriver.ChromeOptions()\n",
        "\n",
        "# # Run the browser on the background\n",
        "opt.add_argument('--headless')\n",
        "opt.add_argument('--no-sandbox')\n",
        "opt.add_argument('--disable-dev-shm-usage')\n",
        "\n",
        "# Creating a driver object\n",
        "driver = webdriver.Chrome('chromedriver',options=opt)"
      ],
      "metadata": {
        "id": "3b6tIMKdqgo0"
      },
      "execution_count": null,
      "outputs": []
    },
    {
      "cell_type": "code",
      "source": [
        "web = 'https://www.amazon.com/errors/validateCaptcha'\n",
        "\n",
        "driver.get(web)"
      ],
      "metadata": {
        "id": "BmnH-6FDs_Zw"
      },
      "execution_count": null,
      "outputs": []
    },
    {
      "cell_type": "code",
      "source": [
        "def captcha_solver():\n",
        "  # scraping the image url and get the image source\n",
        "    image_url = driver.find_element(By.TAG_NAME,\"img\")\n",
        "    image_src = image_url.get_attribute(\"src\")\n",
        "\n",
        "    response = requests.get(image_src).content\n",
        "\n",
        "    img = Image.open(io.BytesIO(response))\n",
        "\n",
        "    # text = pytesseract.image_to_string(img)\n",
        "\n",
        "    # Extracting the Text from Image\n",
        "    lang = easyocr.Reader(['en'])\n",
        "    text_list = lang.readtext(img)\n",
        "    text = text_list[0][1]\n",
        "    # print(\"/n\")\n",
        "    print(text)\n",
        "\n",
        "  # appling the extracted text into captcha box\n",
        "    captcha_box = driver.find_element(By.ID,\"captchacharacters\")\n",
        "    captcha_box.send_keys(text+Keys.ENTER)\n",
        "\n",
        "captcha_solver()\n",
        "driver.quit()"
      ],
      "metadata": {
        "colab": {
          "base_uri": "https://localhost:8080/"
        },
        "id": "HpWQqtqEuFDM",
        "outputId": "ddcf9f8a-2e0c-4aa7-bcab-73bd0b44195a"
      },
      "execution_count": null,
      "outputs": [
        {
          "output_type": "stream",
          "name": "stderr",
          "text": [
            "CUDA not available - defaulting to CPU. Note: This module is much faster with a GPU.\n"
          ]
        },
        {
          "output_type": "stream",
          "name": "stdout",
          "text": [
            "HKKJEM\n"
          ]
        }
      ]
    },
    {
      "cell_type": "code",
      "source": [
        ""
      ],
      "metadata": {
        "id": "PhHZpaPyu31E"
      },
      "execution_count": null,
      "outputs": []
    }
  ]
}