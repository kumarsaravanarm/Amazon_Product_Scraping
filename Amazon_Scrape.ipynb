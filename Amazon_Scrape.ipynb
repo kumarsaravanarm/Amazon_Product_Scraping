{
  "nbformat": 4,
  "nbformat_minor": 0,
  "metadata": {
    "colab": {
      "name": "Amazon_Scrape.ipynb",
      "provenance": [],
      "collapsed_sections": [],
      "authorship_tag": "ABX9TyMnXbjUtNdjdaadG57CuHlf",
      "include_colab_link": true
    },
    "kernelspec": {
      "name": "python3",
      "display_name": "Python 3"
    },
    "language_info": {
      "name": "python"
    }
  },
  "cells": [
    {
      "cell_type": "markdown",
      "metadata": {
        "id": "view-in-github",
        "colab_type": "text"
      },
      "source": [
        "<a href=\"https://colab.research.google.com/github/kumarsaravanarm/Amazon_Product_Scraping/blob/main/Amazon_Scrape.ipynb\" target=\"_parent\"><img src=\"https://colab.research.google.com/assets/colab-badge.svg\" alt=\"Open In Colab\"/></a>"
      ]
    },
    {
      "cell_type": "code",
      "execution_count": null,
      "metadata": {
        "id": "DY7mg1qDdJgP"
      },
      "outputs": [],
      "source": [
        "!pip install selenium"
      ]
    },
    {
      "cell_type": "code",
      "source": [
        "!pip install pandas"
      ],
      "metadata": {
        "id": "vefOWCZ6dRGw"
      },
      "execution_count": null,
      "outputs": []
    },
    {
      "cell_type": "code",
      "source": [
        "!apt install chromium-chromedriver xvfb > /dev/null"
      ],
      "metadata": {
        "id": "JpbL458ndm_G"
      },
      "execution_count": null,
      "outputs": []
    },
    {
      "cell_type": "code",
      "source": [
        "from selenium import webdriver\n",
        "from selenium.webdriver.common.by import By\n",
        "from selenium.webdriver.common.keys import Keys\n",
        "from selenium.webdriver.support.ui import WebDriverWait\n",
        "from selenium.common.exceptions import NoSuchElementException\n",
        "import pandas as pd\n",
        "\n",
        "import time\n",
        "from datetime import timedelta"
      ],
      "metadata": {
        "id": "sVksrFCIdp62"
      },
      "execution_count": null,
      "outputs": []
    },
    {
      "cell_type": "code",
      "source": [
        "opt = webdriver.ChromeOptions()\n",
        "\n",
        "# Run the browser on the background\n",
        "opt.add_argument('--headless')\n",
        "opt.add_argument('--no-sandbox')\n",
        "opt.add_argument('--disable-dev-shm-usage')\n",
        "\n",
        "# Creating a driver object\n",
        "driver = webdriver.Chrome('chromedriver',options=opt)"
      ],
      "metadata": {
        "id": "kVnhZq6CdzTu"
      },
      "execution_count": null,
      "outputs": []
    },
    {
      "cell_type": "code",
      "source": [
        "# opening the csv file using pandas\n",
        "df = pd.read_csv('Amazon_Scraping_Sheet1.csv')\n",
        "asins = df[\"Asin\"]\n",
        "countries = df[\"country\"]\n",
        "Product_list = []\n",
        "web_404 = []"
      ],
      "metadata": {
        "id": "ZNzpwIrnd1_-"
      },
      "execution_count": null,
      "outputs": []
    },
    {
      "cell_type": "code",
      "source": [
        "class Amazon:\n",
        "\n",
        "    def title(self):\n",
        "\n",
        "        # Scraping the Title of the product\n",
        "        product_title = driver.find_element(By.ID,\"productTitle\").text\n",
        "        return product_title\n",
        "\n",
        "    def price(self):\n",
        "\n",
        "      # Scraping the Product Price\n",
        "        try:\n",
        "            product_price = driver.find_element(By.XPATH,\".//span[@class='a-color-base']\").text\n",
        "        except NoSuchElementException:\n",
        "            product_price = driver.find_element(By.XPATH,\"/html/body/div[2]/div[2]/div[5]/div[4]/div[4]/div[11]/div[1]/div[1]/span[1]/span[2]\").text\n",
        "        except Exception as e:\n",
        "            print(e)\n",
        "        return product_price\n",
        "\n",
        "    def image(self):\n",
        "\n",
        "      # Scraping the Product Image Url\n",
        "        image_container = driver.find_element(By.ID,\"main-image-container\")\n",
        "        product_img = image_container.find_element(By.TAG_NAME,\"img\").get_attribute(\"src\")\n",
        "        return product_img\n",
        "\n",
        "    def details(self):\n",
        "\n",
        "      # Scraping the Product Details\n",
        "        try:\n",
        "            product_details = driver.find_element(By.ID,\"detailBullets_feature_div\").text\n",
        "        except NoSuchElementException:\n",
        "            product_details = driver.find_element(By.ID,\"productDetails_techSpec_section_1\").text\n",
        "        except Exception as e:\n",
        "            print(e)\n",
        "        return product_details"
      ],
      "metadata": {
        "id": "XCmHqT8Zd9ll"
      },
      "execution_count": null,
      "outputs": []
    },
    {
      "cell_type": "code",
      "source": [
        "# start recording the time\n",
        "start_time = time.time()\n",
        "\n",
        "# Looping the full csv data\n",
        "for country,asin in zip(countries,asins):\n",
        "    try:\n",
        "      # Creating the webpage url\n",
        "        web = f'https://www.amazon.{country}/dp/{asin}'\n",
        "\n",
        "        # opening the webpage\n",
        "        driver.get(web)\n",
        "        website = Amazon()\n",
        "\n",
        "        Product = {\"Web_pageurl\":web,\"Product_Title\":website.title(),\"Product_price\":website.price(),\"Product_imagelink\":website.image(),\"Product_Details\":website.details()}\n",
        "        Product_list.append(Product)\n",
        "        print(Product_list)\n",
        "\n",
        "    except:\n",
        "        web_404.append(web)\n",
        "        print(f\"The {web} is not avaliable\")\n",
        "\n",
        "# Final time Recorded of Scraping\n",
        "end_time = time.time()\n",
        "time_taken = round(end_time - start_time,10)\n",
        "print(f\"The time {timedelta(seconds=time_taken)} taken to complete scraping\")"
      ],
      "metadata": {
        "id": "XEDfVA8meBTO"
      },
      "execution_count": null,
      "outputs": []
    },
    {
      "cell_type": "code",
      "source": [
        "file_json = pd.DataFrame(Product_list)\n",
        "file_json.to_json(\"Amazon_scrape.json\")\n",
        "\n",
        "file_csv = pd.DataFrame(Product_list)\n",
        "file_csv.to_csv(\"Amazon_scrape.csv\",encoding='utf-8',index=False)\n",
        "\n",
        "file_404 = pd.DataFrame(web_404)\n",
        "file_404.to_csv(\"web_404.csv\",encoding='utf-8',index=False)\n",
        "\n",
        "driver.implicitly_wait(10)\n",
        "driver.quit()"
      ],
      "metadata": {
        "id": "Axw0CuuueG32"
      },
      "execution_count": null,
      "outputs": []
    },
    {
      "cell_type": "markdown",
      "source": [
        ""
      ],
      "metadata": {
        "id": "x71GHvTzgtwP"
      }
    }
  ]
}
